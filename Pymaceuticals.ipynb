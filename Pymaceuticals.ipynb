{
 "cells": [
  {
   "cell_type": "code",
   "execution_count": null,
   "metadata": {},
   "outputs": [],
   "source": []
  },
  {
   "cell_type": "code",
   "execution_count": 43,
   "metadata": {},
   "outputs": [],
   "source": [
    "# Import dependencies\n",
    "import pandas as pd\n",
    "import matplotlib.pyplot as plt\n",
    "import scipy.stats as st\n",
    "from scipy.stats import linregress\n",
    "import numpy as np"
   ]
  },
  {
   "cell_type": "code",
   "execution_count": 156,
   "metadata": {},
   "outputs": [
    {
     "data": {
      "text/html": [
       "<div>\n",
       "<style scoped>\n",
       "    .dataframe tbody tr th:only-of-type {\n",
       "        vertical-align: middle;\n",
       "    }\n",
       "\n",
       "    .dataframe tbody tr th {\n",
       "        vertical-align: top;\n",
       "    }\n",
       "\n",
       "    .dataframe thead th {\n",
       "        text-align: right;\n",
       "    }\n",
       "</style>\n",
       "<table border=\"1\" class=\"dataframe\">\n",
       "  <thead>\n",
       "    <tr style=\"text-align: right;\">\n",
       "      <th></th>\n",
       "      <th>Mouse ID</th>\n",
       "      <th>Timepoint</th>\n",
       "      <th>Tumor Volume (mm3)</th>\n",
       "      <th>Metastatic Sites</th>\n",
       "      <th>Drug Regimen</th>\n",
       "      <th>Sex</th>\n",
       "      <th>Age_months</th>\n",
       "      <th>Weight (g)</th>\n",
       "    </tr>\n",
       "  </thead>\n",
       "  <tbody>\n",
       "    <tr>\n",
       "      <th>0</th>\n",
       "      <td>b128</td>\n",
       "      <td>0</td>\n",
       "      <td>45.000000</td>\n",
       "      <td>0</td>\n",
       "      <td>Capomulin</td>\n",
       "      <td>Female</td>\n",
       "      <td>9</td>\n",
       "      <td>22</td>\n",
       "    </tr>\n",
       "    <tr>\n",
       "      <th>1</th>\n",
       "      <td>b128</td>\n",
       "      <td>5</td>\n",
       "      <td>45.651331</td>\n",
       "      <td>0</td>\n",
       "      <td>Capomulin</td>\n",
       "      <td>Female</td>\n",
       "      <td>9</td>\n",
       "      <td>22</td>\n",
       "    </tr>\n",
       "    <tr>\n",
       "      <th>2</th>\n",
       "      <td>b128</td>\n",
       "      <td>10</td>\n",
       "      <td>43.270852</td>\n",
       "      <td>0</td>\n",
       "      <td>Capomulin</td>\n",
       "      <td>Female</td>\n",
       "      <td>9</td>\n",
       "      <td>22</td>\n",
       "    </tr>\n",
       "    <tr>\n",
       "      <th>3</th>\n",
       "      <td>b128</td>\n",
       "      <td>15</td>\n",
       "      <td>43.784893</td>\n",
       "      <td>0</td>\n",
       "      <td>Capomulin</td>\n",
       "      <td>Female</td>\n",
       "      <td>9</td>\n",
       "      <td>22</td>\n",
       "    </tr>\n",
       "    <tr>\n",
       "      <th>4</th>\n",
       "      <td>b128</td>\n",
       "      <td>20</td>\n",
       "      <td>42.731552</td>\n",
       "      <td>0</td>\n",
       "      <td>Capomulin</td>\n",
       "      <td>Female</td>\n",
       "      <td>9</td>\n",
       "      <td>22</td>\n",
       "    </tr>\n",
       "  </tbody>\n",
       "</table>\n",
       "</div>"
      ],
      "text/plain": [
       "  Mouse ID  Timepoint  Tumor Volume (mm3)  Metastatic Sites Drug Regimen  \\\n",
       "0     b128          0           45.000000                 0    Capomulin   \n",
       "1     b128          5           45.651331                 0    Capomulin   \n",
       "2     b128         10           43.270852                 0    Capomulin   \n",
       "3     b128         15           43.784893                 0    Capomulin   \n",
       "4     b128         20           42.731552                 0    Capomulin   \n",
       "\n",
       "      Sex  Age_months  Weight (g)  \n",
       "0  Female           9          22  \n",
       "1  Female           9          22  \n",
       "2  Female           9          22  \n",
       "3  Female           9          22  \n",
       "4  Female           9          22  "
      ]
     },
     "execution_count": 156,
     "metadata": {},
     "output_type": "execute_result"
    }
   ],
   "source": [
    "# Open and read both data files\n",
    "mouse_metadata_file = \"Resources/Mouse_metadata.csv\"\n",
    "study_results_file = \"Resources/Study_results.csv\"\n",
    "\n",
    "# Read and preview the data in a datafram\n",
    "mouse_metadata_master = pd.read_csv(mouse_metadata_file)\n",
    "mouse_metadata_master.head()\n",
    "\n",
    "study_results_master = pd.read_csv(study_results_file)\n",
    "study_results_master.head()\n",
    "\n",
    "# Merge the dataframes\n",
    "compiled_data_master = pd.merge(study_results_master, mouse_metadata_master, on=\"Mouse ID\")\n",
    "compiled_data_master.head()"
   ]
  },
  {
   "cell_type": "code",
   "execution_count": 155,
   "metadata": {},
   "outputs": [],
   "source": [
    "# Confirm each row is unique\n",
    "# Many thanks to Stephanie Richards for her help!\n",
    "duplicates = compiled_data_master[compiled_data_master.duplicated([\"Mouse ID\", \"Timepoint\"], keep=False)]\n",
    "# duplicates"
   ]
  },
  {
   "cell_type": "code",
   "execution_count": 154,
   "metadata": {},
   "outputs": [
    {
     "data": {
      "text/html": [
       "<div>\n",
       "<style scoped>\n",
       "    .dataframe tbody tr th:only-of-type {\n",
       "        vertical-align: middle;\n",
       "    }\n",
       "\n",
       "    .dataframe tbody tr th {\n",
       "        vertical-align: top;\n",
       "    }\n",
       "\n",
       "    .dataframe thead th {\n",
       "        text-align: right;\n",
       "    }\n",
       "</style>\n",
       "<table border=\"1\" class=\"dataframe\">\n",
       "  <thead>\n",
       "    <tr style=\"text-align: right;\">\n",
       "      <th></th>\n",
       "      <th>Mouse ID</th>\n",
       "      <th>Timepoint</th>\n",
       "      <th>Tumor Volume (mm3)</th>\n",
       "      <th>Metastatic Sites</th>\n",
       "      <th>Drug Regimen</th>\n",
       "      <th>Sex</th>\n",
       "      <th>Age_months</th>\n",
       "      <th>Weight (g)</th>\n",
       "    </tr>\n",
       "  </thead>\n",
       "  <tbody>\n",
       "    <tr>\n",
       "      <th>0</th>\n",
       "      <td>b128</td>\n",
       "      <td>0</td>\n",
       "      <td>45.000000</td>\n",
       "      <td>0</td>\n",
       "      <td>Capomulin</td>\n",
       "      <td>Female</td>\n",
       "      <td>9</td>\n",
       "      <td>22</td>\n",
       "    </tr>\n",
       "    <tr>\n",
       "      <th>1</th>\n",
       "      <td>b128</td>\n",
       "      <td>5</td>\n",
       "      <td>45.651331</td>\n",
       "      <td>0</td>\n",
       "      <td>Capomulin</td>\n",
       "      <td>Female</td>\n",
       "      <td>9</td>\n",
       "      <td>22</td>\n",
       "    </tr>\n",
       "    <tr>\n",
       "      <th>2</th>\n",
       "      <td>b128</td>\n",
       "      <td>10</td>\n",
       "      <td>43.270852</td>\n",
       "      <td>0</td>\n",
       "      <td>Capomulin</td>\n",
       "      <td>Female</td>\n",
       "      <td>9</td>\n",
       "      <td>22</td>\n",
       "    </tr>\n",
       "    <tr>\n",
       "      <th>3</th>\n",
       "      <td>b128</td>\n",
       "      <td>15</td>\n",
       "      <td>43.784893</td>\n",
       "      <td>0</td>\n",
       "      <td>Capomulin</td>\n",
       "      <td>Female</td>\n",
       "      <td>9</td>\n",
       "      <td>22</td>\n",
       "    </tr>\n",
       "    <tr>\n",
       "      <th>4</th>\n",
       "      <td>b128</td>\n",
       "      <td>20</td>\n",
       "      <td>42.731552</td>\n",
       "      <td>0</td>\n",
       "      <td>Capomulin</td>\n",
       "      <td>Female</td>\n",
       "      <td>9</td>\n",
       "      <td>22</td>\n",
       "    </tr>\n",
       "  </tbody>\n",
       "</table>\n",
       "</div>"
      ],
      "text/plain": [
       "  Mouse ID  Timepoint  Tumor Volume (mm3)  Metastatic Sites Drug Regimen  \\\n",
       "0     b128          0           45.000000                 0    Capomulin   \n",
       "1     b128          5           45.651331                 0    Capomulin   \n",
       "2     b128         10           43.270852                 0    Capomulin   \n",
       "3     b128         15           43.784893                 0    Capomulin   \n",
       "4     b128         20           42.731552                 0    Capomulin   \n",
       "\n",
       "      Sex  Age_months  Weight (g)  \n",
       "0  Female           9          22  \n",
       "1  Female           9          22  \n",
       "2  Female           9          22  \n",
       "3  Female           9          22  \n",
       "4  Female           9          22  "
      ]
     },
     "execution_count": 154,
     "metadata": {},
     "output_type": "execute_result"
    }
   ],
   "source": [
    "# Drop data for duplicated mouse g989\n",
    "# df.loc[df['shield'] > 6]\n",
    "cleaned_master = compiled_data_master.loc[compiled_data_master[\"Mouse ID\"] != \"g989\"]\n",
    "cleaned_master.head()"
   ]
  },
  {
   "cell_type": "code",
   "execution_count": 48,
   "metadata": {},
   "outputs": [],
   "source": [
    "# Summary Statistics Table\n",
    "# mean, median, variance, STD, SEM of tumor volume for EACH drug regimen\n",
    "\n",
    "drug_groups = cleaned_master.groupby(\"Drug Regimen\")\n",
    "mean_tumor_volume = drug_groups[\"Tumor Volume (mm3)\"].mean()\n",
    "# mean_tumor_volume\n",
    "median_tumor_volume = drug_groups[\"Tumor Volume (mm3)\"].median()\n",
    "# median_tumor_volume\n",
    "variance_tumor_volume = drug_groups[\"Tumor Volume (mm3)\"].var()\n",
    "# variance_tumor_volume\n",
    "STD_tumor_volume = drug_groups[\"Tumor Volume (mm3)\"].std()\n",
    "# STD_tumor_volume\n",
    "SEM_tumor_volume = drug_groups[\"Tumor Volume (mm3)\"].sem()\n",
    "# SEM_tumor_volume"
   ]
  },
  {
   "cell_type": "code",
   "execution_count": 50,
   "metadata": {},
   "outputs": [
    {
     "data": {
      "text/html": [
       "<div>\n",
       "<style scoped>\n",
       "    .dataframe tbody tr th:only-of-type {\n",
       "        vertical-align: middle;\n",
       "    }\n",
       "\n",
       "    .dataframe tbody tr th {\n",
       "        vertical-align: top;\n",
       "    }\n",
       "\n",
       "    .dataframe thead th {\n",
       "        text-align: right;\n",
       "    }\n",
       "</style>\n",
       "<table border=\"1\" class=\"dataframe\">\n",
       "  <thead>\n",
       "    <tr style=\"text-align: right;\">\n",
       "      <th></th>\n",
       "      <th>Mean of Tumor Volume</th>\n",
       "      <th>Median of Tumor Volume</th>\n",
       "      <th>Variance of Tumor Volume</th>\n",
       "      <th>Standard Deviation of Tumor Volume</th>\n",
       "      <th>SEM of Tumor Volume</th>\n",
       "    </tr>\n",
       "    <tr>\n",
       "      <th>Drug Regimen</th>\n",
       "      <th></th>\n",
       "      <th></th>\n",
       "      <th></th>\n",
       "      <th></th>\n",
       "      <th></th>\n",
       "    </tr>\n",
       "  </thead>\n",
       "  <tbody>\n",
       "    <tr>\n",
       "      <th>Capomulin</th>\n",
       "      <td>40.675741</td>\n",
       "      <td>41.557809</td>\n",
       "      <td>24.947764</td>\n",
       "      <td>4.994774</td>\n",
       "      <td>0.329346</td>\n",
       "    </tr>\n",
       "    <tr>\n",
       "      <th>Ceftamin</th>\n",
       "      <td>52.591172</td>\n",
       "      <td>51.776157</td>\n",
       "      <td>39.290177</td>\n",
       "      <td>6.268188</td>\n",
       "      <td>0.469821</td>\n",
       "    </tr>\n",
       "    <tr>\n",
       "      <th>Infubinol</th>\n",
       "      <td>52.884795</td>\n",
       "      <td>51.820584</td>\n",
       "      <td>43.128684</td>\n",
       "      <td>6.567243</td>\n",
       "      <td>0.492236</td>\n",
       "    </tr>\n",
       "    <tr>\n",
       "      <th>Ketapril</th>\n",
       "      <td>55.235638</td>\n",
       "      <td>53.698743</td>\n",
       "      <td>68.553577</td>\n",
       "      <td>8.279709</td>\n",
       "      <td>0.603860</td>\n",
       "    </tr>\n",
       "    <tr>\n",
       "      <th>Naftisol</th>\n",
       "      <td>54.331565</td>\n",
       "      <td>52.509285</td>\n",
       "      <td>66.173479</td>\n",
       "      <td>8.134708</td>\n",
       "      <td>0.596466</td>\n",
       "    </tr>\n",
       "    <tr>\n",
       "      <th>Placebo</th>\n",
       "      <td>54.033581</td>\n",
       "      <td>52.288934</td>\n",
       "      <td>61.168083</td>\n",
       "      <td>7.821003</td>\n",
       "      <td>0.581331</td>\n",
       "    </tr>\n",
       "    <tr>\n",
       "      <th>Propriva</th>\n",
       "      <td>52.320930</td>\n",
       "      <td>50.446266</td>\n",
       "      <td>43.852013</td>\n",
       "      <td>6.622085</td>\n",
       "      <td>0.544332</td>\n",
       "    </tr>\n",
       "    <tr>\n",
       "      <th>Ramicane</th>\n",
       "      <td>40.216745</td>\n",
       "      <td>40.673236</td>\n",
       "      <td>23.486704</td>\n",
       "      <td>4.846308</td>\n",
       "      <td>0.320955</td>\n",
       "    </tr>\n",
       "    <tr>\n",
       "      <th>Stelasyn</th>\n",
       "      <td>54.233149</td>\n",
       "      <td>52.431737</td>\n",
       "      <td>59.450562</td>\n",
       "      <td>7.710419</td>\n",
       "      <td>0.573111</td>\n",
       "    </tr>\n",
       "    <tr>\n",
       "      <th>Zoniferol</th>\n",
       "      <td>53.236507</td>\n",
       "      <td>51.818479</td>\n",
       "      <td>48.533355</td>\n",
       "      <td>6.966589</td>\n",
       "      <td>0.516398</td>\n",
       "    </tr>\n",
       "  </tbody>\n",
       "</table>\n",
       "</div>"
      ],
      "text/plain": [
       "              Mean of Tumor Volume  Median of Tumor Volume  \\\n",
       "Drug Regimen                                                 \n",
       "Capomulin                40.675741               41.557809   \n",
       "Ceftamin                 52.591172               51.776157   \n",
       "Infubinol                52.884795               51.820584   \n",
       "Ketapril                 55.235638               53.698743   \n",
       "Naftisol                 54.331565               52.509285   \n",
       "Placebo                  54.033581               52.288934   \n",
       "Propriva                 52.320930               50.446266   \n",
       "Ramicane                 40.216745               40.673236   \n",
       "Stelasyn                 54.233149               52.431737   \n",
       "Zoniferol                53.236507               51.818479   \n",
       "\n",
       "              Variance of Tumor Volume  Standard Deviation of Tumor Volume  \\\n",
       "Drug Regimen                                                                 \n",
       "Capomulin                    24.947764                            4.994774   \n",
       "Ceftamin                     39.290177                            6.268188   \n",
       "Infubinol                    43.128684                            6.567243   \n",
       "Ketapril                     68.553577                            8.279709   \n",
       "Naftisol                     66.173479                            8.134708   \n",
       "Placebo                      61.168083                            7.821003   \n",
       "Propriva                     43.852013                            6.622085   \n",
       "Ramicane                     23.486704                            4.846308   \n",
       "Stelasyn                     59.450562                            7.710419   \n",
       "Zoniferol                    48.533355                            6.966589   \n",
       "\n",
       "              SEM of Tumor Volume  \n",
       "Drug Regimen                       \n",
       "Capomulin                0.329346  \n",
       "Ceftamin                 0.469821  \n",
       "Infubinol                0.492236  \n",
       "Ketapril                 0.603860  \n",
       "Naftisol                 0.596466  \n",
       "Placebo                  0.581331  \n",
       "Propriva                 0.544332  \n",
       "Ramicane                 0.320955  \n",
       "Stelasyn                 0.573111  \n",
       "Zoniferol                0.516398  "
      ]
     },
     "execution_count": 50,
     "metadata": {},
     "output_type": "execute_result"
    }
   ],
   "source": [
    "# Start building summary table\n",
    "Summary_Statistics_Table = pd.DataFrame({\n",
    "    \"Mean of Tumor Volume\": mean_tumor_volume, \n",
    "    \"Median of Tumor Volume\": median_tumor_volume,\n",
    "    \"Variance of Tumor Volume\": variance_tumor_volume,\n",
    "    \"Standard Deviation of Tumor Volume\": STD_tumor_volume,\n",
    "    \"SEM of Tumor Volume\": SEM_tumor_volume\n",
    "})\n",
    "Summary_Statistics_Table"
   ]
  },
  {
   "cell_type": "code",
   "execution_count": 51,
   "metadata": {},
   "outputs": [],
   "source": [
    "# Make two identical bar charts with two different methods\n",
    "# First with Matplotlib pyplot\n",
    "# Second with DataFrame.plot()"
   ]
  },
  {
   "cell_type": "code",
   "execution_count": 59,
   "metadata": {},
   "outputs": [
    {
     "data": {
      "image/png": "[encoded data removed]",
      "text/plain": [
       "<Figure size 432x288 with 1 Axes>"
      ]
     },
     "metadata": {
      "needs_background": "light"
     },
     "output_type": "display_data"
    }
   ],
   "source": [
    "# Make a bar chart with matplotlib\n",
    "\n",
    "# But first assemble the data to plot\n",
    "cleaned_master.groupby(\"Drug Regimen\").count()\n",
    "count_of_measurements = drug_groups[\"Timepoint\"].count()\n",
    "# count_of_measurements\n",
    "\n",
    "list_of_regimens = cleaned_master[\"Drug Regimen\"].unique()\n",
    "# list_of_regimens\n",
    "alpha_regimens = sorted(list_of_regimens)\n",
    "# alpha_regimens\n",
    "\n",
    "# Plot the data\n",
    "\n",
    "y_axis = count_of_measurements\n",
    "x_axis = np.arange(len(alpha_regimens))\n",
    "\n",
    "# Tell matplotlib to make a bar chart\n",
    "plt.bar(x_axis, y_axis, color=\"blue\", alpha=0.6, align=\"center\")\n",
    "\n",
    "# Make it nicer\n",
    "\n",
    "plt.title(\"Count of Measurements Taken by Drug Regimen\")\n",
    "plt.xlabel(\"Drug Regimen\")\n",
    "plt.ylabel(\"Number of Measurements Taken\")\n",
    "plt.ylim(0, 250)\n",
    "\n",
    "tick_locations = [value for value in x_axis]\n",
    "plt.xticks(tick_locations, alpha_regimens, rotation=\"45\")\n",
    "\n",
    "plt.show()\n"
   ]
  },
  {
   "cell_type": "code",
   "execution_count": 153,
   "metadata": {},
   "outputs": [
    {
     "data": {
      "text/plain": [
       "<matplotlib.axes._subplots.AxesSubplot at 0x7fa8605c6dc0>"
      ]
     },
     "execution_count": 153,
     "metadata": {},
     "output_type": "execute_result"
    },
    {
     "data": {
      "image/png": "[encoded data removed]",
      "text/plain": [
       "<Figure size 432x288 with 1 Axes>"
      ]
     },
     "metadata": {
      "needs_background": "light"
     },
     "output_type": "display_data"
    }
   ],
   "source": [
    "# Now to try with DataFrame.plot and a datframe\n",
    "\n",
    "count_of_measurements_df = pd.DataFrame({\n",
    "    \"Drug Regimen\": alpha_regimens,\n",
    "    \"Count of Measurement\": count_of_measurements\n",
    "})\n",
    "\n",
    "# count_of_measurements_df\n",
    "\n",
    "# Make the plot\n",
    "x = \"Drug Regimen\"\n",
    "y = \"Count of Measurement\"\n",
    "title = \"Count of Measurements taken by Drug Regimen\"\n",
    "\n",
    "measurement_by_regimen = count_of_measurements_df.plot.bar(x=x, y=y, rot=45, title=title)\n",
    "measurement_by_regimen"
   ]
  },
  {
   "cell_type": "code",
   "execution_count": 66,
   "metadata": {},
   "outputs": [],
   "source": [
    "# Make two pie charts for gender distribution, same approach as bar charts"
   ]
  },
  {
   "cell_type": "code",
   "execution_count": 151,
   "metadata": {},
   "outputs": [
    {
     "data": {
      "text/html": [
       "<div>\n",
       "<style scoped>\n",
       "    .dataframe tbody tr th:only-of-type {\n",
       "        vertical-align: middle;\n",
       "    }\n",
       "\n",
       "    .dataframe tbody tr th {\n",
       "        vertical-align: top;\n",
       "    }\n",
       "\n",
       "    .dataframe thead th {\n",
       "        text-align: right;\n",
       "    }\n",
       "</style>\n",
       "<table border=\"1\" class=\"dataframe\">\n",
       "  <thead>\n",
       "    <tr style=\"text-align: right;\">\n",
       "      <th></th>\n",
       "      <th>Sex</th>\n",
       "      <th>Count</th>\n",
       "    </tr>\n",
       "  </thead>\n",
       "  <tbody>\n",
       "    <tr>\n",
       "      <th>0</th>\n",
       "      <td>Female</td>\n",
       "      <td>922</td>\n",
       "    </tr>\n",
       "    <tr>\n",
       "      <th>1</th>\n",
       "      <td>Male</td>\n",
       "      <td>958</td>\n",
       "    </tr>\n",
       "  </tbody>\n",
       "</table>\n",
       "</div>"
      ],
      "text/plain": [
       "      Sex  Count\n",
       "0  Female    922\n",
       "1    Male    958"
      ]
     },
     "execution_count": 151,
     "metadata": {},
     "output_type": "execute_result"
    }
   ],
   "source": [
    "# Get count of male and female mice\n",
    "\n",
    "cleaned_master.groupby(\"Sex\").count()\n",
    "\n",
    "# Make a dataframe of gender\n",
    "gender_df = pd.DataFrame({\n",
    "    \"Sex\": [\"Female\", \"Male\"],\n",
    "    \"Count\": [len(cleaned_master.loc[cleaned_master[\"Sex\"] == \"Female\"]), \n",
    "              len(cleaned_master.loc[cleaned_master[\"Sex\"] == \"Male\"])]\n",
    "})\n",
    "gender_df"
   ]
  },
  {
   "cell_type": "code",
   "execution_count": 149,
   "metadata": {},
   "outputs": [
    {
     "data": {
      "text/plain": [
       "<matplotlib.axes._subplots.AxesSubplot at 0x7fa820224e80>"
      ]
     },
     "execution_count": 149,
     "metadata": {},
     "output_type": "execute_result"
    },
    {
     "data": {
      "image/png": "[encoded data removed]",
      "text/plain": [
       "<Figure size 432x288 with 1 Axes>"
      ]
     },
     "metadata": {},
     "output_type": "display_data"
    }
   ],
   "source": [
    "# Make a pie chart with df.plot\n",
    "\n",
    "labels = [\"Female\", \"Male\"]\n",
    "colors = [\"yellow\", \"green\"]\n",
    "count_by_sex = gender_df.plot.pie(y=\"Count\", autopct=\"%1.1f%%\", colors=colors, \n",
    "                                  labels=labels, startangle=140)\n",
    "plt.title(label=\"Gender of Mice\")\n",
    "plt.legend(loc=\"lower right\")\n",
    "\n",
    "\n",
    "count_by_sex"
   ]
  },
  {
   "cell_type": "code",
   "execution_count": 79,
   "metadata": {},
   "outputs": [
    {
     "data": {
      "image/png": "[encoded data removed]",
      "text/plain": [
       "<Figure size 432x288 with 1 Axes>"
      ]
     },
     "metadata": {},
     "output_type": "display_data"
    }
   ],
   "source": [
    "# Make a pie chart with matplotlib\n",
    "\n",
    "pie_labels = [\"Female\", \"Male\"]\n",
    "gender_counts = [female_mice_count, male_mice_count]\n",
    "colors = [\"yellow\", \"green\"]\n",
    "plt.pie(gender_counts, labels=pie_labels, colors=colors,\n",
    "        autopct=\"%1.1f%%\", shadow=True, startangle=140)\n",
    "plt.title(label=\"Gender of Mice\", loc=\"left\")\n",
    "\n",
    "plt.show()\n",
    "\n",
    "# plt.title = \"Gender of Mice\"\n",
    "# Why doesn't this show?\n",
    "# Somehow the title got set behind the scenese with plt.title=\"gender\" and it needs to look like above"
   ]
  },
  {
   "cell_type": "code",
   "execution_count": 80,
   "metadata": {},
   "outputs": [],
   "source": [
    "# Well, all those charts are ugly as sin, but they do exist. \n",
    "# Come back to them and make then nicer later"
   ]
  },
  {
   "cell_type": "code",
   "execution_count": null,
   "metadata": {},
   "outputs": [],
   "source": []
  },
  {
   "cell_type": "code",
   "execution_count": 83,
   "metadata": {},
   "outputs": [
    {
     "data": {
      "text/html": [
       "<div>\n",
       "<style scoped>\n",
       "    .dataframe tbody tr th:only-of-type {\n",
       "        vertical-align: middle;\n",
       "    }\n",
       "\n",
       "    .dataframe tbody tr th {\n",
       "        vertical-align: top;\n",
       "    }\n",
       "\n",
       "    .dataframe thead th {\n",
       "        text-align: right;\n",
       "    }\n",
       "</style>\n",
       "<table border=\"1\" class=\"dataframe\">\n",
       "  <thead>\n",
       "    <tr style=\"text-align: right;\">\n",
       "      <th></th>\n",
       "      <th>Mouse ID</th>\n",
       "      <th>Timepoint</th>\n",
       "      <th>Tumor Volume (mm3)</th>\n",
       "      <th>Metastatic Sites</th>\n",
       "      <th>Drug Regimen</th>\n",
       "      <th>Sex</th>\n",
       "      <th>Age Months</th>\n",
       "      <th>Weight (g)</th>\n",
       "    </tr>\n",
       "  </thead>\n",
       "  <tbody>\n",
       "    <tr>\n",
       "      <th>0</th>\n",
       "      <td>a203</td>\n",
       "      <td>45</td>\n",
       "      <td>67.973419</td>\n",
       "      <td>2</td>\n",
       "      <td>Infubinol</td>\n",
       "      <td>Female</td>\n",
       "      <td>20</td>\n",
       "      <td>23</td>\n",
       "    </tr>\n",
       "    <tr>\n",
       "      <th>1</th>\n",
       "      <td>a251</td>\n",
       "      <td>45</td>\n",
       "      <td>65.525743</td>\n",
       "      <td>1</td>\n",
       "      <td>Infubinol</td>\n",
       "      <td>Female</td>\n",
       "      <td>21</td>\n",
       "      <td>25</td>\n",
       "    </tr>\n",
       "    <tr>\n",
       "      <th>2</th>\n",
       "      <td>a275</td>\n",
       "      <td>45</td>\n",
       "      <td>62.999356</td>\n",
       "      <td>3</td>\n",
       "      <td>Ceftamin</td>\n",
       "      <td>Female</td>\n",
       "      <td>20</td>\n",
       "      <td>28</td>\n",
       "    </tr>\n",
       "    <tr>\n",
       "      <th>3</th>\n",
       "      <td>a411</td>\n",
       "      <td>45</td>\n",
       "      <td>38.407618</td>\n",
       "      <td>1</td>\n",
       "      <td>Ramicane</td>\n",
       "      <td>Male</td>\n",
       "      <td>3</td>\n",
       "      <td>22</td>\n",
       "    </tr>\n",
       "    <tr>\n",
       "      <th>4</th>\n",
       "      <td>a444</td>\n",
       "      <td>45</td>\n",
       "      <td>43.047543</td>\n",
       "      <td>0</td>\n",
       "      <td>Ramicane</td>\n",
       "      <td>Female</td>\n",
       "      <td>10</td>\n",
       "      <td>25</td>\n",
       "    </tr>\n",
       "  </tbody>\n",
       "</table>\n",
       "</div>"
      ],
      "text/plain": [
       "  Mouse ID  Timepoint  Tumor Volume (mm3)  Metastatic Sites Drug Regimen  \\\n",
       "0     a203         45           67.973419                 2    Infubinol   \n",
       "1     a251         45           65.525743                 1    Infubinol   \n",
       "2     a275         45           62.999356                 3     Ceftamin   \n",
       "3     a411         45           38.407618                 1     Ramicane   \n",
       "4     a444         45           43.047543                 0     Ramicane   \n",
       "\n",
       "      Sex  Age Months  Weight (g)  \n",
       "0  Female          20          23  \n",
       "1  Female          21          25  \n",
       "2  Female          20          28  \n",
       "3    Male           3          22  \n",
       "4  Female          10          25  "
      ]
     },
     "execution_count": 83,
     "metadata": {},
     "output_type": "execute_result"
    }
   ],
   "source": [
    "# Trying something else care of Alyssa K and Stephanie Richards\n",
    "# THIS WORKS HALLELUJAH\n",
    "# Walk through this and clean up the mess\n",
    "# It feels like it's all needed but it's gross\n",
    "\n",
    "top_drugs_tumor_two = cleaned_master.loc[(cleaned_master[\"Drug Regimen\"] == \"Capomulin\") | \n",
    "                                          (cleaned_master[\"Drug Regimen\"] == \"Ramicane\") | \n",
    "                                          (cleaned_master[\"Drug Regimen\"] == \"Infubinol\") | \n",
    "                                          (cleaned_master[\"Drug Regimen\"] == \"Ceftamin\")]\n",
    "top_drugs_df_max = top_drugs_tumor_two.groupby(\"Mouse ID\").max()\n",
    "# top_drugs_df_max.head(30) # c326 is still showing at 45\n",
    "\n",
    "\n",
    "# compiled_data_master = pd.merge(study_results_master, mouse_metadata_master, on=\"Mouse ID\")\n",
    "\n",
    "merged_top_drugs = pd.merge(top_drugs_df_max, cleaned_master, on=[\"Mouse ID\", \"Timepoint\"])\n",
    "merged_top_drugs.head(30)\n",
    "# Ok, it's almost sort of there??? But also a mess\n",
    "\n",
    "clean_top_drugs = merged_top_drugs[[\"Mouse ID\", \"Timepoint\", \"Tumor Volume (mm3)_y\", \n",
    "                                    \"Metastatic Sites_x\", \"Drug Regimen_x\", \"Sex_x\", \n",
    "                                    \"Age_months_x\", \"Weight (g)_x\"]]\n",
    "\n",
    "# df.rename(columns={\"A\": \"a\", \"B\": \"c\"})\n",
    "clean_top_drugs = clean_top_drugs.rename(columns={\"Tumor Volume (mm3)_y\": \"Tumor Volume (mm3)\",\n",
    "                                                 \"Metastatic Sites_x\": \"Metastatic Sites\",\n",
    "                                                 \"Drug Regimen_x\": \"Drug Regimen\",\n",
    "                                                 \"Sex_x\": \"Sex\",\n",
    "                                                 \"Age_months_x\": \"Age Months\",\n",
    "                                                 \"Weight (g)_x\": \"Weight (g)\"})\n",
    "clean_top_drugs.head()"
   ]
  },
  {
   "cell_type": "code",
   "execution_count": 84,
   "metadata": {},
   "outputs": [],
   "source": [
    "# If second for loop works, remove this\n",
    "\n",
    "capomulin_data = clean_top_drugs.loc[clean_top_drugs[\"Drug Regimen\"] == \"Capomulin\"]\n",
    "ramicane_data = clean_top_drugs.loc[clean_top_drugs[\"Drug Regimen\"] == \"Ramicane\"]\n",
    "infubinol_data = clean_top_drugs.loc[clean_top_drugs[\"Drug Regimen\"] == \"Infubinol\"]\n",
    "ceftamin_data = clean_top_drugs.loc[clean_top_drugs[\"Drug Regimen\"] == \"Ceftamin\"]\n",
    "# infubinol_data.head()\n",
    "\n",
    "# OK getting the right root data means I can sub originating data and the rest \"should\" work\n",
    "\n",
    "                                    "
   ]
  },
  {
   "cell_type": "code",
   "execution_count": 132,
   "metadata": {},
   "outputs": [
    {
     "name": "stdout",
     "output_type": "stream",
     "text": [
      "Empty DataFrame\n",
      "Columns: [Mouse ID, Timepoint, Tumor Volume (mm3), Metastatic Sites, Drug Regimen, Sex, Age Months, Weight (g)]\n",
      "Index: []\n",
      "Empty DataFrame\n",
      "Columns: [Mouse ID, Timepoint, Tumor Volume (mm3), Metastatic Sites, Drug Regimen, Sex, Age Months, Weight (g)]\n",
      "Index: []\n",
      "   Mouse ID  Timepoint  Tumor Volume (mm3)  Metastatic Sites Drug Regimen  \\\n",
      "15     c326          5           36.321346                 0    Infubinol   \n",
      "\n",
      "       Sex  Age Months  Weight (g)  \n",
      "15  Female          18          25  \n",
      "Empty DataFrame\n",
      "Columns: [Mouse ID, Timepoint, Tumor Volume (mm3), Metastatic Sites, Drug Regimen, Sex, Age Months, Weight (g)]\n",
      "Index: []\n"
     ]
    }
   ],
   "source": [
    "# This for loop was made possibly by Kelly Devillier\n",
    "\n",
    "drug_subsets = [\"Capomulin\", \"Ramicane\", \"Infubinol\", \"Ceftamin\"]\n",
    "\n",
    " # drug is each dataframe   \n",
    "for drug in drug_subsets:\n",
    "    \n",
    "    sub_drug_df = clean_top_drugs.loc[clean_top_drugs[\"Drug Regimen\"] == drug]\n",
    "    quartiles = sub_drug_df[\"Tumor Volume (mm3)\"].quantile([.25, .5, .75])\n",
    "    lowerq = quartiles[.25] \n",
    "    upperq = quartiles[.75]\n",
    "    iqr = upperq - lowerq\n",
    "    lbound = lowerq - (1.5 * iqr)\n",
    "    ubound = upperq + (1.5 * iqr)\n",
    "\n",
    "    volumes = sub_drug_df[\"Tumor Volume (mm3)\"]\n",
    "\n",
    "    # Flag entries that are greater or less than ubound and lbound\n",
    "    outliers = sub_drug_df.loc[sub_drug_df[\"Tumor Volume (mm3)\"] < lbound]\n",
    "    print(outliers)"
   ]
  },
  {
   "cell_type": "code",
   "execution_count": null,
   "metadata": {},
   "outputs": [],
   "source": [
    "# Try a second for loop to make volume lists"
   ]
  },
  {
   "cell_type": "code",
   "execution_count": 85,
   "metadata": {},
   "outputs": [],
   "source": [
    "# Change this to Markdown\n",
    "# According to quantitative analysis of each drug, only Infubinol has an outlier outside 1.5IQR"
   ]
  },
  {
   "cell_type": "code",
   "execution_count": 133,
   "metadata": {},
   "outputs": [],
   "source": [
    "# Make a list of volumes for each drug\n",
    "\n",
    "cap_volumes = capomulin_data[\"Tumor Volume (mm3)\"]\n",
    "ram_volumes = ramicane_data[\"Tumor Volume (mm3)\"]\n",
    "cef_volumes = ceftamin_data[\"Tumor Volume (mm3)\"]\n",
    "inf_volumes = infubinol_data[\"Tumor Volume (mm3)\"]\n"
   ]
  },
  {
   "cell_type": "code",
   "execution_count": 134,
   "metadata": {},
   "outputs": [
    {
     "data": {
      "image/png": "[encoded data removed]",
      "text/plain": [
       "<Figure size 432x288 with 1 Axes>"
      ]
     },
     "metadata": {
      "needs_background": "light"
     },
     "output_type": "display_data"
    }
   ],
   "source": [
    "# Plot all four drugs on a box and whisker plot\n",
    "\n",
    "# Make a list in order I want to have plots appear\n",
    "drug_labels = [\"Capomulin\", \"Ramicane\", \"Infubinol\", \"Ceftamin\"]\n",
    "\n",
    "# Make a list holding all the data in order of the drugs\n",
    "tumor_volume_data = [cap_volumes, ram_volumes, inf_volumes, cef_volumes]\n",
    "\n",
    "fig, ax = plt.subplots()\n",
    "ax.boxplot(tumor_volume_data, sym=\"b+\")\n",
    "ax.set_xticklabels(drug_labels)\n",
    "ax.set_title(\"Top Four Drug Regimens\")\n",
    "ax.set_ylabel(\"Tumor Volume (mm3)\")\n",
    "ax.set_xlabel(\"Drug Regimen\")\n",
    "\n",
    "\n",
    "plt.show()\n"
   ]
  },
  {
   "cell_type": "code",
   "execution_count": 127,
   "metadata": {},
   "outputs": [
    {
     "data": {
      "image/png": "[encoded data removed]",
      "text/plain": [
       "<Figure size 432x288 with 1 Axes>"
      ]
     },
     "metadata": {
      "needs_background": "light"
     },
     "output_type": "display_data"
    }
   ],
   "source": [
    "# Pick a capomulin treaeted mouse\n",
    "cap_mouse_data = cleaned_master.loc[cleaned_master[\"Drug Regimen\"] == \"Capomulin\"]\n",
    "# list(cap_mouse_data[\"Mouse ID\"]) # I choose g316\n",
    " \n",
    "# Isolate g316 data\n",
    "g316_data = cleaned_master.loc[cleaned_master[\"Mouse ID\"] == \"g316\"]\n",
    "# g316_data\n",
    "\n",
    "# Set variables for timepoint vs tumor volume line plot\n",
    "timepoint = g316_data[\"Timepoint\"]\n",
    "tumor_volume = g316_data[\"Tumor Volume (mm3)\"]\n",
    "\n",
    "plt.plot(timepoint, tumor_volume, \"bo\")\n",
    "plt.xlabel(\"Timepoint\")\n",
    "plt.ylabel(\"Tumor Volume (mm3)\")\n",
    "plt.title(\"Mouse G316 Tumor Volume by Timepoint\")\n",
    "plt.xlim(-1, 47)\n",
    "plt.ylim(30, 50)\n",
    "plt.show()"
   ]
  },
  {
   "cell_type": "code",
   "execution_count": 125,
   "metadata": {},
   "outputs": [
    {
     "name": "stdout",
     "output_type": "stream",
     "text": [
      "The correlation between weight and tumor volume is 0.84\n"
     ]
    },
    {
     "data": {
      "image/png": "[encoded data removed]",
      "text/plain": [
       "<Figure size 432x288 with 1 Axes>"
      ]
     },
     "metadata": {
      "needs_background": "light"
     },
     "output_type": "display_data"
    }
   ],
   "source": [
    "# Plot ALL mice weights against tumor volume (list of unique weights)\n",
    "# Need a list of unique mice weights for capomulin treatment and list of tumor volumes\n",
    "# capomulin_data\n",
    "cap_weights = capomulin_data[\"Weight (g)\"]\n",
    "avg_cap_data = cap_mouse_data.groupby(\"Mouse ID\").mean()\n",
    "avg_cap_tumor = avg_cap_data[\"Tumor Volume (mm3)\"]\n",
    "# avg_cap_tumor\n",
    "\n",
    "plt.scatter(cap_weights, avg_cap_tumor, color=\"blue\")\n",
    "plt.xlabel(\"Mouse Weights in Grams\")\n",
    "plt.ylabel(\"Tumor Volume (mm3)\")\n",
    "plt.title(\"Mouse Weight vs Average Tumor Volume\")\n",
    "plt.xlim(10, 30)\n",
    "plt.ylim(30, 50)\n",
    "\n",
    "correlation = st.pearsonr(cap_weights, avg_cap_tumor)\n",
    "print(f\"The correlation between weight and tumor volume is {round(correlation[0],2)}\")\n",
    "\n",
    "# Calculate the line of best fit and plot on the graph\n",
    "(slope, intercept, rvalue, pvalue, stderr) = linregress(cap_weights, avg_cap_tumor)\n",
    "regress_values = cap_weights * slope + intercept\n",
    "line_eq = \"y = \" + str(round(slope,2)) + \"x + \" + str(round(intercept,2))\n",
    "plt.scatter(cap_weights, avg_cap_tumor)\n",
    "plt.plot(cap_weights, regress_values, \"r-\")\n",
    "plt.annotate(line_eq,(20,36),fontsize=15,color=\"green\")\n",
    "\n",
    "\n",
    "plt.show()\n",
    "\n"
   ]
  },
  {
   "cell_type": "code",
   "execution_count": null,
   "metadata": {},
   "outputs": [],
   "source": []
  },
  {
   "cell_type": "code",
   "execution_count": null,
   "metadata": {},
   "outputs": [],
   "source": []
  },
  {
   "cell_type": "code",
   "execution_count": 33,
   "metadata": {},
   "outputs": [
    {
     "ename": "SyntaxError",
     "evalue": "invalid syntax (<ipython-input-33-a0eff8560fe5>, line 9)",
     "output_type": "error",
     "traceback": [
      "\u001b[0;36m  File \u001b[0;32m\"<ipython-input-33-a0eff8560fe5>\"\u001b[0;36m, line \u001b[0;32m9\u001b[0m\n\u001b[0;31m    plt.plot(timepoint, tumor_volume, \"bo\")\u001b[0m\n\u001b[0m    ^\u001b[0m\n\u001b[0;31mSyntaxError\u001b[0m\u001b[0;31m:\u001b[0m invalid syntax\n"
     ]
    }
   ],
   "source": [
    "# fixed above, don't needooof\n",
    "\n",
    "# Set variables for timepoint vs tumor volume line plot\n",
    "# Again, ugly as farts, but I'm moving forward and coming back\n",
    "\n",
    "timepoint = g316_data[\"Timepoint\"]\n",
    "tumor_volume = g316_data[\"Tumor Volume (mm3)\"\n",
    "                         \n",
    "                        \n",
    "\n",
    "plt.plot(timepoint, tumor_volume, \"bo\")\n",
    "                         \n",
    "\n"
   ]
  },
  {
   "cell_type": "code",
   "execution_count": null,
   "metadata": {},
   "outputs": [],
   "source": [
    "# x_values = housing_data['RM']\n",
    "# y_values = housing_data['MEDV']\n",
    "# (slope, intercept, rvalue, pvalue, stderr) = linregress(x_values, y_values)\n",
    "# regress_values = x_values * slope + intercept\n",
    "# line_eq = \"y = \" + str(round(slope,2)) + \"x + \" + str(round(intercept,2))\n",
    "# plt.scatter(x_values,y_values)\n",
    "# plt.plot(x_values,regress_values,\"r-\")\n",
    "# plt.annotate(line_eq,(6,10),fontsize=15,color=\"red\")\n",
    "# plt.xlabel('Rooms in House')\n",
    "# plt.ylabel('Median House Prices ($1000)')\n",
    "# plt.show()\n",
    "\n",
    "# income = who_data.iloc[:,1]\n",
    "# alcohol = who_data.iloc[:,8]\n",
    "# correlation = st.pearsonr(income,alcohol)"
   ]
  },
  {
   "cell_type": "code",
   "execution_count": 25,
   "metadata": {},
   "outputs": [],
   "source": [
    "# Calculate quartiles for each drug\n",
    "# Can this be done with top_drugs_tumor_data? \n",
    "# Or is it better to break it out by drug?\n",
    "# quartiles = temperatures.quantile([.25,.5,.75])\n",
    "# lowerq = quartiles[0.25]\n",
    "# upperq = quartiles[0.75]\n",
    "# iqr = upperq-lowerq\n",
    "# quartiles"
   ]
  },
  {
   "cell_type": "code",
   "execution_count": 117,
   "metadata": {},
   "outputs": [
    {
     "data": {
      "image/png": "[encoded data removed]",
      "text/plain": [
       "<Figure size 432x288 with 1 Axes>"
      ]
     },
     "metadata": {
      "needs_background": "light"
     },
     "output_type": "display_data"
    }
   ],
   "source": [
    "# Replicated above, do not need anymore\n",
    "\n",
    "\n",
    "\n",
    "# Calculate correlation coefficient and linear regression for weight and average tumor volume\n",
    "# cap_avg_tumor = capomulin_data[\"Tumor Volume (mm3)\"].mean()\n",
    "# average tumor volume of each mouse against its own weight\n",
    "\n",
    "correlation = st.pearsonr(cap_weights, avg_cap_tumor)\n",
    "# print(f\"The correlation between weight and tumor volume is {round(correlation[0],2)}\")\n",
    "\n",
    "(slope, intercept, rvalue, pvalue, stderr) = linregress(cap_weights, avg_cap_tumor)\n",
    "regress_values = cap_weights * slope + intercept\n",
    "line_eq = \"y = \" + str(round(slope,2)) + \"x + \" + str(round(intercept,2))\n",
    "plt.scatter(cap_weights, avg_cap_tumor)\n",
    "plt.plot(cap_weights, regress_values, \"r-\")\n",
    "plt.annotate(line_eq,(20,36),fontsize=15,color=\"green\")\n",
    "# plt.xlabel('Weight in grams')\n",
    "# plt.set_title(\"Weights vs Tumor Volume in Mice Treated with Capomulin\")\n",
    "plt.show()\n"
   ]
  },
  {
   "cell_type": "code",
   "execution_count": 26,
   "metadata": {},
   "outputs": [
    {
     "data": {
      "text/html": [
       "<div>\n",
       "<style scoped>\n",
       "    .dataframe tbody tr th:only-of-type {\n",
       "        vertical-align: middle;\n",
       "    }\n",
       "\n",
       "    .dataframe tbody tr th {\n",
       "        vertical-align: top;\n",
       "    }\n",
       "\n",
       "    .dataframe thead th {\n",
       "        text-align: right;\n",
       "    }\n",
       "</style>\n",
       "<table border=\"1\" class=\"dataframe\">\n",
       "  <thead>\n",
       "    <tr style=\"text-align: right;\">\n",
       "      <th></th>\n",
       "      <th>Mouse ID</th>\n",
       "      <th>Timepoint</th>\n",
       "      <th>Tumor Volume (mm3)</th>\n",
       "      <th>Metastatic Sites</th>\n",
       "      <th>Drug Regimen</th>\n",
       "      <th>Sex</th>\n",
       "      <th>Age Months</th>\n",
       "      <th>Weight (g)</th>\n",
       "    </tr>\n",
       "  </thead>\n",
       "  <tbody>\n",
       "    <tr>\n",
       "      <th>15</th>\n",
       "      <td>c326</td>\n",
       "      <td>5</td>\n",
       "      <td>36.321346</td>\n",
       "      <td>0</td>\n",
       "      <td>Infubinol</td>\n",
       "      <td>Female</td>\n",
       "      <td>18</td>\n",
       "      <td>25</td>\n",
       "    </tr>\n",
       "  </tbody>\n",
       "</table>\n",
       "</div>"
      ],
      "text/plain": [
       "   Mouse ID  Timepoint  Tumor Volume (mm3)  Metastatic Sites Drug Regimen  \\\n",
       "15     c326          5           36.321346                 0    Infubinol   \n",
       "\n",
       "       Sex  Age Months  Weight (g)  \n",
       "15  Female          18          25  "
      ]
     },
     "execution_count": 26,
     "metadata": {},
     "output_type": "execute_result"
    }
   ],
   "source": [
    "# No longer needed because of for loop from Kelly\n",
    "\n",
    "# # Try to make everything dependent on the for loop above to remove this\n",
    "# # Or just keep volume lists for below?\n",
    "\n",
    "# # Capomulin\n",
    "# cap_quartiles = capomulin_data[\"Tumor Volume (mm3)\"].quantile([.25, .5, .75])\n",
    "# cap_lowerq = cap_quartiles[.25]\n",
    "# cap_upperq = cap_quartiles[.75]\n",
    "# cap_iqr = cap_upperq - cap_lowerq\n",
    "# cap_lbound = cap_lowerq - (1.5 * cap_iqr)\n",
    "# cap_ubound = cap_upperq + (1.5 * cap_iqr)\n",
    "\n",
    "# cap_volumes = capomulin_data[\"Tumor Volume (mm3)\"]\n",
    "\n",
    "# # Flag entries that are greater or less than ubound and lbound\n",
    "# cap_outliers = capomulin_data.loc[capomulin_data[\"Tumor Volume (mm3)\"] < cap_lbound]\n",
    "# cap_outliers\n",
    "\n",
    "\n",
    "# # Ramicane\n",
    "# ram_quartiles = ramicane_data[\"Tumor Volume (mm3)\"].quantile([.25, .5, .75])\n",
    "# ram_lowerq = ram_quartiles[.25]\n",
    "# ram_upperq = ram_quartiles[.75]\n",
    "# ram_iqr = ram_upperq - ram_lowerq\n",
    "# ram_lbound = ram_lowerq - (1.5 * ram_iqr)\n",
    "# ram_ubound = ram_upperq + (1.5 * ram_iqr)\n",
    "\n",
    "# ram_volumes = ramicane_data[\"Tumor Volume (mm3)\"]\n",
    "\n",
    "# # Flag entries that are greater or less than ubound and lbound\n",
    "# ram_outliers = ramicane_data.loc[ramicane_data[\"Tumor Volume (mm3)\"] < ram_lbound]\n",
    "# ram_outliers\n",
    "\n",
    "\n",
    "# # Ceftamin\n",
    "# cef_quartiles = ceftamin_data[\"Tumor Volume (mm3)\"].quantile([.25, .5, .75])\n",
    "# cef_lowerq = cef_quartiles[.25]\n",
    "# cef_upperq = cef_quartiles[.75]\n",
    "# cef_iqr = cef_upperq - cef_lowerq\n",
    "# cef_lbound = cef_lowerq - (1.5 * cef_iqr)\n",
    "# cef_ubound = cef_upperq + (1.5 * cef_iqr)\n",
    "\n",
    "# cef_volumes = ceftamin_data[\"Tumor Volume (mm3)\"]\n",
    "\n",
    "# # Flag entries that are greater or less than ubound and lbound\n",
    "# cef_outliers = ceftamin_data.loc[ceftamin_data[\"Tumor Volume (mm3)\"] < cef_lbound]\n",
    "# cef_outliers\n",
    "\n",
    "\n",
    "# # Infubinol\n",
    "# # This one is supposed to have an outlier and it's not showing up\n",
    "# # Troubleshoot here\n",
    "# inf_quartiles = infubinol_data[\"Tumor Volume (mm3)\"].quantile([.25, .5, .75])\n",
    "# inf_lowerq = inf_quartiles[.25] \n",
    "# inf_upperq = inf_quartiles[.75]\n",
    "# inf_iqr = inf_upperq - inf_lowerq\n",
    "# inf_lbound = inf_lowerq - (1.5 * inf_iqr)\n",
    "# inf_ubound = inf_upperq + (1.5 * inf_iqr)\n",
    "\n",
    "# inf_volumes = infubinol_data[\"Tumor Volume (mm3)\"]\n",
    "\n",
    "# # Flag entries that are greater or less than ubound and lbound\n",
    "# inf_outliers = infubinol_data.loc[infubinol_data[\"Tumor Volume (mm3)\"] < inf_lbound]\n",
    "# inf_outliers"
   ]
  }
 ],
 "metadata": {
  "kernelspec": {
   "display_name": "Python 3",
   "language": "python",
   "name": "python3"
  },
  "language_info": {
   "codemirror_mode": {
    "name": "ipython",
    "version": 3
   },
   "file_extension": ".py",
   "mimetype": "text/x-python",
   "name": "python",
   "nbconvert_exporter": "python",
   "pygments_lexer": "ipython3",
   "version": "3.8.3"
  }
 },
 "nbformat": 4,
 "nbformat_minor": 4
}
